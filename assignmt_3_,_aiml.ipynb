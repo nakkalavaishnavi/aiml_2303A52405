{
  "nbformat": 4,
  "nbformat_minor": 0,
  "metadata": {
    "colab": {
      "provenance": [],
      "toc_visible": true,
      "authorship_tag": "ABX9TyNfUtUl9oTbY5tankZsR0xf",
      "include_colab_link": true
    },
    "kernelspec": {
      "name": "python3",
      "display_name": "Python 3"
    },
    "language_info": {
      "name": "python"
    }
  },
  "cells": [
    {
      "cell_type": "markdown",
      "metadata": {
        "id": "view-in-github",
        "colab_type": "text"
      },
      "source": [
        "<a href=\"https://colab.research.google.com/github/nakkalavaishnavi/aiml_2303A52405/blob/main/assignmt_3_%2C_aiml.ipynb\" target=\"_parent\"><img src=\"https://colab.research.google.com/assets/colab-badge.svg\" alt=\"Open In Colab\"/></a>"
      ]
    },
    {
      "cell_type": "code",
      "execution_count": null,
      "metadata": {
        "colab": {
          "base_uri": "https://localhost:8080/"
        },
        "id": "W3RaBsKvzHMe",
        "outputId": "c654202e-0db6-49bb-98c3-aec3a2a9f205"
      },
      "outputs": [
        {
          "output_type": "stream",
          "name": "stdout",
          "text": [
            "Observed Price (Min, Max): (5.0, 50.0)\n",
            "Expected Price (Min, Max): (-4.281310709184915, 44.67308338731289)\n",
            "MinMax Range between Observed and Expected Prices: (-4.281310709184915, 50.0)\n"
          ]
        }
      ],
      "source": [
        "# Compute Min-Max for Observed and Expected Prices\n",
        "import pandas as pd\n",
        "import statsmodels.api as sm\n",
        "\n",
        "# Load the dataset\n",
        "url = \"https://raw.githubusercontent.com/selva86/datasets/master/BostonHousing.csv\"\n",
        "df = pd.read_csv(url)\n",
        "\n",
        "# Define independent variables (features) and the dependent variable (Price)\n",
        "X = df[['crim', 'zn', 'indus', 'chas', 'nox', 'rm', 'age', 'dis', 'rad', 'tax', 'ptratio', 'b', 'lstat']]\n",
        "y = df['medv']  # 'medv' is the target variable (Observed Price)\n",
        "\n",
        "# Add a constant term (intercept) to the independent variables\n",
        "X = sm.add_constant(X)\n",
        "\n",
        "# Fit the OLS regression model\n",
        "model = sm.OLS(y, X).fit()\n",
        "\n",
        "# Make predictions (Expected Price)\n",
        "y_pred = model.predict(X)\n",
        "\n",
        "# Compute Min and Max values for Observed and Expected Prices\n",
        "min_observed = y.min()\n",
        "max_observed = y.max()\n",
        "\n",
        "min_expected = y_pred.min()\n",
        "max_expected = y_pred.max()\n",
        "\n",
        "# Print the Min-Max values\n",
        "print(f\"Observed Price (Min, Max): ({min_observed}, {max_observed})\")\n",
        "print(f\"Expected Price (Min, Max): ({min_expected}, {max_expected})\")\n",
        "\n",
        "# MinMax Range between Observed and Expected Prices\n",
        "min_value = min(min_observed, min_expected)\n",
        "max_value = max(max_observed, max_expected)\n",
        "\n",
        "print(f\"MinMax Range between Observed and Expected Prices: ({min_value}, {max_value})\")"
      ]
    },
    {
      "cell_type": "code",
      "source": [],
      "metadata": {
        "id": "xGOXCVxIzn0r"
      },
      "execution_count": null,
      "outputs": []
    }
  ]
}