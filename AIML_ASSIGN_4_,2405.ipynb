{
  "nbformat": 4,
  "nbformat_minor": 0,
  "metadata": {
    "colab": {
      "provenance": [],
      "authorship_tag": "ABX9TyNCegA36VwlV9QUSbtoxkOF",
      "include_colab_link": true
    },
    "kernelspec": {
      "name": "python3",
      "display_name": "Python 3"
    },
    "language_info": {
      "name": "python"
    }
  },
  "cells": [
    {
      "cell_type": "markdown",
      "metadata": {
        "id": "view-in-github",
        "colab_type": "text"
      },
      "source": [
        "<a href=\"https://colab.research.google.com/github/nakkalavaishnavi/aiml_2303A52405/blob/main/AIML_ASSIGN_4_%2C2405.ipynb\" target=\"_parent\"><img src=\"https://colab.research.google.com/assets/colab-badge.svg\" alt=\"Open In Colab\"/></a>"
      ]
    },
    {
      "cell_type": "code",
      "execution_count": null,
      "metadata": {
        "colab": {
          "base_uri": "https://localhost:8080/",
          "height": 106
        },
        "id": "F78wVQ5Zufcg",
        "outputId": "2f4efdce-ec55-45ef-805e-69846f833f7a"
      },
      "outputs": [
        {
          "output_type": "error",
          "ename": "IndentationError",
          "evalue": "unexpected indent (<ipython-input-5-b41521cbea55>, line 12)",
          "traceback": [
            "\u001b[0;36m  File \u001b[0;32m\"<ipython-input-5-b41521cbea55>\"\u001b[0;36m, line \u001b[0;32m12\u001b[0m\n\u001b[0;31m    print(df.head())\u001b[0m\n\u001b[0m    ^\u001b[0m\n\u001b[0;31mIndentationError\u001b[0m\u001b[0;31m:\u001b[0m unexpected indent\n"
          ]
        }
      ],
      "source": [
        "#Assignment 4 import pandas as pd\n",
        "import numpy as np\n",
        "import statsmodels.api as sm\n",
        "import matplotlib.pyplot as plt\n",
        "from scipy.stats import norm\n",
        "\n",
        "# Load the dataset\n",
        "url = \"https://raw.githubusercontent.com/selva86/datasets/master/BostonHousing.csv\"\n",
        "df = pd.read_csv(url)\n",
        "\n",
        "# Display first few rows of the data to understand its structure\n",
        " print(df.head())\n",
        "\n",
        "# Define independent variables (features) and the dependent variable (Price)\n",
        "X = df[['crim', 'zn', 'indus', 'chas', 'nox', 'rm', 'age', 'dis', 'rad', 'tax', 'ptratio', 'b', 'lstat']]\n",
        "y = df['medv']  # 'medv' is the target variable (Price)\n",
        "\n",
        "# Add a constant term (intercept) to the independent variables\n",
        "X = sm.add_constant(X)\n",
        "\n",
        "# Fit the OLS regression model\n",
        "model = sm.OLS(y, X).fit()\n",
        "# Make predictions (Expected Price)\n",
        "y_pred = model.predict(X)\n",
        "\n",
        "# Compute Min and Max values for Observed and Expected Prices\n",
        "min_observed = y.min()\n",
        "max_observed = y.max()\n",
        "\n",
        "min_expected = y_pred.min()\n",
        "max_expected = y_pred.max()\n",
        "\n",
        "# Print the Min-Max values\n",
        "print(f\"Observed Price (Min, Max): ({min_observed}, {max_observed})\")\n",
        "print(f\"Expected Price (Min, Max): ({min_expected}, {max_expected})\")\n",
        "\n",
        "# MinMax Range between Observed and Expected Prices\n",
        "min_value = min(min_observed, min_expected)\n",
        "max_value = max(max_observed, max_expected)\n",
        "\n",
        "print(f\"MinMax Range between Observed and Expected Prices: ({min_value}, {max_value})\")\n",
        "\n",
        "# Get the coefficients, stand…"
      ]
    }
  ]
}